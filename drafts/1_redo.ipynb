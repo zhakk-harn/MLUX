{
 "cells": [
  {
   "cell_type": "markdown",
   "id": "b43b43a5",
   "metadata": {},
   "source": [
    "# Welcome to Jupyter Notebooks\n",
    "\n",
    "- It' s a all-in-one data science environment\n",
    "- They're made of code cells and markdown cells\n",
    "- you can execute the code cell with Cmd + Enter\n",
    "- The output of a cell is the last value\n",
    "    - could be just straight up the value\n",
    "    - could be the returned value from a function\n",
    "- The memory is shared between the cells\n",
    "\n",
    "# Let's do a quick tour of python\n",
    "If you're at ease with JavaScript here are quick JS<=>Python translations : https://valentin-dupas.notion.site/JS-174b972572da47ecb50cc404638e9c8e"
   ]
  },
  {
   "cell_type": "code",
   "execution_count": null,
   "id": "0e8850dd",
   "metadata": {},
   "outputs": [],
   "source": []
  },
  {
   "cell_type": "markdown",
   "id": "105093ad",
   "metadata": {},
   "source": [
    "# Numpy\n",
    "## How to use it\n",
    "first you need to import it"
   ]
  },
  {
   "cell_type": "code",
   "execution_count": 1,
   "id": "eab9421c",
   "metadata": {},
   "outputs": [],
   "source": [
    "import numpy"
   ]
  },
  {
   "cell_type": "markdown",
   "id": "37314108",
   "metadata": {},
   "source": [
    "## Why not the classic python lists?\n",
    "Because on big datasets it's way faster. But you can't add or remove stuff from a numpy array. You'll need to create a brand new array."
   ]
  }
 ],
 "metadata": {
  "kernelspec": {
   "display_name": "Python 3 (ipykernel)",
   "language": "python",
   "name": "python3"
  },
  "language_info": {
   "codemirror_mode": {
    "name": "ipython",
    "version": 3
   },
   "file_extension": ".py",
   "mimetype": "text/x-python",
   "name": "python",
   "nbconvert_exporter": "python",
   "pygments_lexer": "ipython3",
   "version": "3.9.7"
  }
 },
 "nbformat": 4,
 "nbformat_minor": 5
}
