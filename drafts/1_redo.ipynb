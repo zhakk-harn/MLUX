{
 "cells": [
  {
   "cell_type": "markdown",
   "id": "b43b43a5",
   "metadata": {},
   "source": [
    "# Welcome to Jupyter Notebooks\n",
    "\n",
    "- It' s a all-in-one data science environment\n",
    "- They're made of code cells and markdown cells\n",
    "- you can execute the code cell with Cmd + Enter\n",
    "- The output of a cell is the last value\n",
    "    - could be just straight up the value\n",
    "    - could be the returned value from a function\n",
    "- The memory is shared between the cells\n",
    "\n",
    "# Let's do a quick tour of python\n",
    "If you're at ease with JavaScript here are quick JS<=>Python translations : https://valentin-dupas.notion.site/JS-174b972572da47ecb50cc404638e9c8e\n",
    "Don't worry if you don't find this page useful, we'll look at python right away, but for those who found the page useful you may want to try and jump straight to the exercises.\n",
    "\n",
    "## Comments"
   ]
  },
  {
   "cell_type": "code",
   "execution_count": 1,
   "id": "0e8850dd",
   "metadata": {},
   "outputs": [
    {
     "data": {
      "text/plain": [
       "\"\\nor they are encased in 3 double quotes...\\n... so they can be multi-line\\n\\nComments are just notes inside the code. They are ignored by the computer when it executes the code.\\nI encourage you to annotate what you're reading in this page. It'll help you process the infos.\\n\""
      ]
     },
     "execution_count": 1,
     "metadata": {},
     "output_type": "execute_result"
    }
   ],
   "source": [
    "# comments either starts with a \"#\" \n",
    "\"\"\"\n",
    "or they are encased in 3 double quotes...\n",
    "... so they can be multi-line\n",
    "\n",
    "Comments are just notes inside the code. They are ignored by the computer when it executes the code.\n",
    "I encourage you to annotate what you're reading in this page. It'll help you process the infos.\n",
    "\"\"\""
   ]
  },
  {
   "cell_type": "markdown",
   "id": "6633f4ee",
   "metadata": {},
   "source": [
    "## Variables\n",
    "The main point of a program is to handle information. To do that it needs to :  \n",
    "1 - store the information  \n",
    "2 - transform the information  \n",
    "\n",
    "Variables will handle this first task."
   ]
  },
  {
   "cell_type": "code",
   "execution_count": 3,
   "id": "c18a8836",
   "metadata": {},
   "outputs": [
    {
     "data": {
      "text/plain": [
       "True"
      ]
     },
     "execution_count": 3,
     "metadata": {},
     "output_type": "execute_result"
    }
   ],
   "source": [
    "#in python you just create a variable by calling its name and giving it a value\n",
    "kids = 48                     # variables can contain numbers\n",
    "age = 2.4                     # ...which can have a decimal\n",
    "name = \"Micheline\"            # ...or text, in programming we call these \"strings\" (short for \"strings of characters\")\n",
    "has_a_subaru_impreza = False  # ...or a boolean value (either True or False), note the capital letter\n",
    "\n",
    "                              # some variables can be more complex and store more than one value\n",
    "\n",
    "in_my_bag = (14,\"ties\",8,\"serpents\",False) # after this line, the variable \"in_my_bag\" will contains a tuple\n",
    "                                           # a tuple has a fixed size, you can't add/remove/modify elements afterward\n",
    "                                           # but you can put whatever you want in it.\n",
    "        \n",
    "in_my_pockets = [\"batteries\",12, True]     # this is a list. It's just like a tuple but you can also modify it\n",
    "                                           # why have both tuples and list? Two things:\n",
    "                                           # 1- it's important to use exactly as many features as we need and NOTHING MORE\n",
    "                                           # that way, the constraints we have chosen clarify where we are going\n",
    "                                           # 2- tuples are faster so my code can go brrrrrrrrr\n",
    "\n",
    "\n",
    "gilbert = {                                # and lastly, you have dictionnaries\n",
    "    \"kids\": 1,                             # just like the two others you can put whatever you want inside\n",
    "    \"cats\": 3,                             # just like lists you can modify it as you want\n",
    "    \"has_a_mitsubishi_lancer_evo\":  True,  # note: we are using colons : and not equals =\n",
    "    \"age\": 42.8\n",
    "}\n",
    "\n",
    "# then why have list and dictionnaries?\n",
    "# you access an item of a list through its address (0 is the first address)\n",
    "in_my_pockets[0] # the value of this is \"batteries\"\n",
    "in_my_pockets[2] # the value of this is True\n",
    "in_my_bag[1] # it works the same way with tuples, and that represent the value \"ties\"\n",
    "\n",
    "\n",
    "# you access an item of a dictionnary through its \"labels\" also called \"property names\"\n",
    "gilbert[\"age\"] # the value of this is 42.8\n",
    "gilbert[\"cats\"] # the value of this is 3\n",
    "gilbert[\"has_a_mitsubishi_lancer_evo\"]# the value of this is True"
   ]
  },
  {
   "cell_type": "markdown",
   "id": "2714da6a",
   "metadata": {},
   "source": [
    "Why not use values straight away? Why bother with variables?  \n",
    "For 2 mains reasons :\n",
    "1. readability\n",
    "2. multi-use\n",
    "\n",
    "about readability :\n",
    "Sure it's quicker to do ...\n",
    "```\n",
    "3 * 12\n",
    "```\n",
    "\n",
    "...Than to do \n",
    "```\n",
    "eggs_per_package = 12\n",
    "packages_in_cupboard = 3\n",
    "total = eggs_per_package * packages_in_cupboard\n",
    "```\n",
    "but the second will tell a story, it gives you context, this way your code is easier to understand. You'll thank yourself if you write cleanly.\n",
    "\n",
    "As for the multi-use :\n",
    "Let's imagine you want to display this annoying greetings to your user whenever they connect\n",
    "```\n",
    "\"Hey Carl, how are you doing Carl? How are the kids Carl? Are you still a bitch Carl?\"\n",
    "```\n",
    "Now let's imagine you want to change it, you'd have to change it everywhere and not make a mistake when you edit. In that case that's fine but let's imagine we did a few more of those sentences, are we going to update them all? **by hand?**  \n",
    "Here is what I should do\n",
    "```\n",
    "name = \"Carl\"\n",
    "\"Hey \"+name+\", how are you doing \"+name+\"? How are the kids \"+name+\"? Are you still a bitch \"+name+\"?\"\n",
    "```\n",
    "This way, I just have the value of the variable \"name\" to change."
   ]
  },
  {
   "cell_type": "markdown",
   "id": "a19f66e1",
   "metadata": {},
   "source": [
    "## Functions\n",
    "\n",
    "(how to write one and use it thrice)\n",
    "calling functions we haven't defined like range() and len()"
   ]
  },
  {
   "cell_type": "markdown",
   "id": "93981c25",
   "metadata": {},
   "source": [
    "# Control Flow\n",
    "if\n",
    "for"
   ]
  },
  {
   "cell_type": "markdown",
   "id": "c0805d1e",
   "metadata": {},
   "source": [
    "# Pandas\n",
    "What does it do?"
   ]
  },
  {
   "cell_type": "code",
   "execution_count": null,
   "id": "52f5b4a7",
   "metadata": {},
   "outputs": [],
   "source": [
    "import pandas"
   ]
  },
  {
   "cell_type": "markdown",
   "id": "105093ad",
   "metadata": {},
   "source": [
    "# Numpy\n",
    "## How to use it\n",
    "first you need to import it"
   ]
  },
  {
   "cell_type": "code",
   "execution_count": 1,
   "id": "eab9421c",
   "metadata": {},
   "outputs": [],
   "source": [
    "import numpy"
   ]
  },
  {
   "cell_type": "markdown",
   "id": "37314108",
   "metadata": {},
   "source": [
    "## Why not the classic python lists?\n",
    "Because on big datasets it's way faster. But you can't add or remove stuff from a numpy array. You'll need to create a brand new array."
   ]
  }
 ],
 "metadata": {
  "kernelspec": {
   "display_name": "Python 3 (ipykernel)",
   "language": "python",
   "name": "python3"
  },
  "language_info": {
   "codemirror_mode": {
    "name": "ipython",
    "version": 3
   },
   "file_extension": ".py",
   "mimetype": "text/x-python",
   "name": "python",
   "nbconvert_exporter": "python",
   "pygments_lexer": "ipython3",
   "version": "3.9.7"
  }
 },
 "nbformat": 4,
 "nbformat_minor": 5
}
